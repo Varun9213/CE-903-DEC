{
  "nbformat": 4,
  "nbformat_minor": 0,
  "metadata": {
    "colab": {
      "name": "Demo_DEC.ipynb",
      "provenance": [],
      "authorship_tag": "ABX9TyNNXAQDuwv01mAZQI2z8Qex",
      "include_colab_link": true
    },
    "kernelspec": {
      "name": "python3",
      "display_name": "Python 3"
    },
    "language_info": {
      "name": "python"
    }
  },
  "cells": [
    {
      "cell_type": "markdown",
      "metadata": {
        "id": "view-in-github",
        "colab_type": "text"
      },
      "source": [
        "<a href=\"https://colab.research.google.com/github/Varun9213/CE-903-DEC/blob/main/Demo_DEC.ipynb\" target=\"_parent\"><img src=\"https://colab.research.google.com/assets/colab-badge.svg\" alt=\"Open In Colab\"/></a>"
      ]
    },
    {
      "cell_type": "code",
      "metadata": {
        "colab": {
          "base_uri": "https://localhost:8080/"
        },
        "id": "RH4jZUfX5QMd",
        "outputId": "6426e336-6727-4ce7-ac69-b6e7b502b606"
      },
      "source": [
        "pip install -i https://test.pypi.org/simple/ --extra-index-url https://pypi.org/simple Clustering==0.0.10"
      ],
      "execution_count": 3,
      "outputs": [
        {
          "output_type": "stream",
          "text": [
            "Looking in indexes: https://test.pypi.org/simple/, https://pypi.org/simple\n",
            "Collecting Clustering==0.0.10\n",
            "  Downloading https://test-files.pythonhosted.org/packages/9a/5f/8bd0b59f9db7a042805cad3e821da8cc6ac9f214d075af26a74281d59ba2/Clustering-0.0.10-py3-none-any.whl\n",
            "Requirement already satisfied: ipython>=6 in /usr/local/lib/python3.7/dist-packages (from Clustering==0.0.10) (7.22.0)\n",
            "Requirement already satisfied: nbformat>=4 in /usr/local/lib/python3.7/dist-packages (from Clustering==0.0.10) (5.1.3)\n",
            "Requirement already satisfied: requests>=2 in /usr/local/lib/python3.7/dist-packages (from Clustering==0.0.10) (2.23.0)\n",
            "Requirement already satisfied: nbconvert>=5 in /usr/local/lib/python3.7/dist-packages (from Clustering==0.0.10) (5.6.1)\n",
            "Requirement already satisfied: pexpect>4.3; sys_platform != \"win32\" in /usr/local/lib/python3.7/dist-packages (from ipython>=6->Clustering==0.0.10) (4.8.0)\n",
            "Requirement already satisfied: pickleshare in /usr/local/lib/python3.7/dist-packages (from ipython>=6->Clustering==0.0.10) (0.7.5)\n",
            "Requirement already satisfied: setuptools>=18.5 in /usr/local/lib/python3.7/dist-packages (from ipython>=6->Clustering==0.0.10) (54.2.0)\n",
            "Requirement already satisfied: traitlets>=4.2 in /usr/local/lib/python3.7/dist-packages (from ipython>=6->Clustering==0.0.10) (5.0.5)\n",
            "Requirement already satisfied: decorator in /usr/local/lib/python3.7/dist-packages (from ipython>=6->Clustering==0.0.10) (4.4.2)\n",
            "Requirement already satisfied: pygments in /usr/local/lib/python3.7/dist-packages (from ipython>=6->Clustering==0.0.10) (2.6.1)\n",
            "Requirement already satisfied: backcall in /usr/local/lib/python3.7/dist-packages (from ipython>=6->Clustering==0.0.10) (0.2.0)\n",
            "Requirement already satisfied: jedi>=0.16 in /usr/local/lib/python3.7/dist-packages (from ipython>=6->Clustering==0.0.10) (0.18.0)\n",
            "Requirement already satisfied: prompt-toolkit!=3.0.0,!=3.0.1,<3.1.0,>=2.0.0 in /usr/local/lib/python3.7/dist-packages (from ipython>=6->Clustering==0.0.10) (3.0.18)\n",
            "Requirement already satisfied: jupyter-core in /usr/local/lib/python3.7/dist-packages (from nbformat>=4->Clustering==0.0.10) (4.7.1)\n",
            "Requirement already satisfied: jsonschema!=2.5.0,>=2.4 in /usr/local/lib/python3.7/dist-packages (from nbformat>=4->Clustering==0.0.10) (2.6.0)\n",
            "Requirement already satisfied: ipython-genutils in /usr/local/lib/python3.7/dist-packages (from nbformat>=4->Clustering==0.0.10) (0.2.0)\n",
            "Requirement already satisfied: certifi>=2017.4.17 in /usr/local/lib/python3.7/dist-packages (from requests>=2->Clustering==0.0.10) (2020.12.5)\n",
            "Requirement already satisfied: chardet<4,>=3.0.2 in /usr/local/lib/python3.7/dist-packages (from requests>=2->Clustering==0.0.10) (3.0.4)\n",
            "Requirement already satisfied: idna<3,>=2.5 in /usr/local/lib/python3.7/dist-packages (from requests>=2->Clustering==0.0.10) (2.10)\n",
            "Requirement already satisfied: urllib3!=1.25.0,!=1.25.1,<1.26,>=1.21.1 in /usr/local/lib/python3.7/dist-packages (from requests>=2->Clustering==0.0.10) (1.24.3)\n",
            "Requirement already satisfied: testpath in /usr/local/lib/python3.7/dist-packages (from nbconvert>=5->Clustering==0.0.10) (0.4.4)\n",
            "Requirement already satisfied: entrypoints>=0.2.2 in /usr/local/lib/python3.7/dist-packages (from nbconvert>=5->Clustering==0.0.10) (0.3)\n",
            "Requirement already satisfied: jinja2>=2.4 in /usr/local/lib/python3.7/dist-packages (from nbconvert>=5->Clustering==0.0.10) (2.11.3)\n",
            "Requirement already satisfied: defusedxml in /usr/local/lib/python3.7/dist-packages (from nbconvert>=5->Clustering==0.0.10) (0.7.1)\n",
            "Requirement already satisfied: bleach in /usr/local/lib/python3.7/dist-packages (from nbconvert>=5->Clustering==0.0.10) (3.3.0)\n",
            "Requirement already satisfied: mistune<2,>=0.8.1 in /usr/local/lib/python3.7/dist-packages (from nbconvert>=5->Clustering==0.0.10) (0.8.4)\n",
            "Requirement already satisfied: pandocfilters>=1.4.1 in /usr/local/lib/python3.7/dist-packages (from nbconvert>=5->Clustering==0.0.10) (1.4.3)\n",
            "Requirement already satisfied: ptyprocess>=0.5 in /usr/local/lib/python3.7/dist-packages (from pexpect>4.3; sys_platform != \"win32\"->ipython>=6->Clustering==0.0.10) (0.7.0)\n",
            "Requirement already satisfied: parso<0.9.0,>=0.8.0 in /usr/local/lib/python3.7/dist-packages (from jedi>=0.16->ipython>=6->Clustering==0.0.10) (0.8.2)\n",
            "Requirement already satisfied: wcwidth in /usr/local/lib/python3.7/dist-packages (from prompt-toolkit!=3.0.0,!=3.0.1,<3.1.0,>=2.0.0->ipython>=6->Clustering==0.0.10) (0.2.5)\n",
            "Requirement already satisfied: MarkupSafe>=0.23 in /usr/local/lib/python3.7/dist-packages (from jinja2>=2.4->nbconvert>=5->Clustering==0.0.10) (1.1.1)\n",
            "Requirement already satisfied: webencodings in /usr/local/lib/python3.7/dist-packages (from bleach->nbconvert>=5->Clustering==0.0.10) (0.5.1)\n",
            "Requirement already satisfied: packaging in /usr/local/lib/python3.7/dist-packages (from bleach->nbconvert>=5->Clustering==0.0.10) (20.9)\n",
            "Requirement already satisfied: six>=1.9.0 in /usr/local/lib/python3.7/dist-packages (from bleach->nbconvert>=5->Clustering==0.0.10) (1.15.0)\n",
            "Requirement already satisfied: pyparsing>=2.0.2 in /usr/local/lib/python3.7/dist-packages (from packaging->bleach->nbconvert>=5->Clustering==0.0.10) (2.4.7)\n",
            "Installing collected packages: Clustering\n",
            "  Found existing installation: Clustering 0.0.9\n",
            "    Uninstalling Clustering-0.0.9:\n",
            "      Successfully uninstalled Clustering-0.0.9\n",
            "Successfully installed Clustering-0.0.10\n"
          ],
          "name": "stdout"
        }
      ]
    },
    {
      "cell_type": "code",
      "metadata": {
        "id": "OvYdhfbEh3_Q"
      },
      "source": [
        "from Clustering.Clustering import DEC"
      ],
      "execution_count": 4,
      "outputs": []
    },
    {
      "cell_type": "code",
      "metadata": {
        "id": "N_NMYnVtqtMe"
      },
      "source": [
        "# import numpy as np\n",
        "# import pandas as pd\n",
        "\n",
        "# import tensorflow as tf\n",
        "# import tensorflow.keras.backend as K\n",
        "# import tensorflow.keras.layers as L\n",
        "from tensorflow.keras.optimizers import SGD, Adam\n",
        "# from tensorflow.keras.models import Model\n",
        "\n",
        "\n",
        "from sklearn.datasets import load_iris, load_digits\n",
        "from sklearn.cluster import KMeans\n",
        "from sklearn import metrics\n",
        "import numpy as np\n",
        "import pandas as pd"
      ],
      "execution_count": 5,
      "outputs": []
    },
    {
      "cell_type": "code",
      "metadata": {
        "id": "AeSge5_5q0md"
      },
      "source": [
        "fea, tar = load_digits(return_X_y=True)\n",
        "fea = np.array(fea)\n",
        "tar = np.array(tar)"
      ],
      "execution_count": 6,
      "outputs": []
    },
    {
      "cell_type": "code",
      "metadata": {
        "id": "oSrFR3s8wmLC"
      },
      "source": [
        "%mkdir iris_DEC"
      ],
      "execution_count": 7,
      "outputs": []
    },
    {
      "cell_type": "code",
      "metadata": {
        "colab": {
          "base_uri": "https://localhost:8080/"
        },
        "id": "dZmnKBn2iO_F",
        "outputId": "06ac812f-7f5f-4074-b08d-0378483ce606"
      },
      "source": [
        "dec = DEC([fea.shape[1],128,64,64,32,32],nclusters=10)\n",
        "dec.autoencoder.summary()"
      ],
      "execution_count": 8,
      "outputs": [
        {
          "output_type": "stream",
          "text": [
            "Model: \"Autoencoder\"\n",
            "_________________________________________________________________\n",
            "Layer (type)                 Output Shape              Param #   \n",
            "=================================================================\n",
            "input_ (InputLayer)          [(None, 64)]              0         \n",
            "_________________________________________________________________\n",
            "encoding_layer_0 (Dense)     (None, 128)               8320      \n",
            "_________________________________________________________________\n",
            "encoding_layer_1 (Dense)     (None, 64)                8256      \n",
            "_________________________________________________________________\n",
            "encoding_layer_2 (Dense)     (None, 64)                4160      \n",
            "_________________________________________________________________\n",
            "encoding_layer_3 (Dense)     (None, 32)                2080      \n",
            "_________________________________________________________________\n",
            "encoder_output (Dense)       (None, 32)                1056      \n",
            "_________________________________________________________________\n",
            "decoding_layer_4 (Dense)     (None, 32)                1056      \n",
            "_________________________________________________________________\n",
            "decoding_layer_3 (Dense)     (None, 64)                2112      \n",
            "_________________________________________________________________\n",
            "decoding_layer_2 (Dense)     (None, 64)                4160      \n",
            "_________________________________________________________________\n",
            "decoding_layer_1 (Dense)     (None, 128)               8320      \n",
            "_________________________________________________________________\n",
            "decoder_ouput (Dense)        (None, 64)                8256      \n",
            "=================================================================\n",
            "Total params: 47,776\n",
            "Trainable params: 47,776\n",
            "Non-trainable params: 0\n",
            "_________________________________________________________________\n"
          ],
          "name": "stdout"
        }
      ]
    },
    {
      "cell_type": "code",
      "metadata": {
        "colab": {
          "base_uri": "https://localhost:8080/"
        },
        "id": "tFH0udaGwqD1",
        "outputId": "10706e58-052a-40f4-8271-d39dedb90370"
      },
      "source": [
        "dec.train_autoencoder(fea,epochs=5000,dir=\"/content/iris_DEC\",optimizer=Adam(learning_rate=0.001))"
      ],
      "execution_count": 9,
      "outputs": [
        {
          "output_type": "stream",
          "text": [
            "loss : 0.65339\n",
            "Weights saved to /content/iris_DEC/autoencoder_weights.h5\n"
          ],
          "name": "stdout"
        }
      ]
    },
    {
      "cell_type": "code",
      "metadata": {
        "colab": {
          "base_uri": "https://localhost:8080/"
        },
        "id": "LqwewT_NwxYm",
        "outputId": "da3a3c43-a26d-456b-8eac-63014495c89c"
      },
      "source": [
        "dec.compile(optimizer=Adam(learning_rate=0.001), loss='kld')\n",
        "dec.fit(fea, tar, epochs=1000, dir=\"/content/iris_DEC\")"
      ],
      "execution_count": 10,
      "outputs": [
        {
          "output_type": "stream",
          "text": [
            "Initializing cluster centers with k-means.........\n",
            "Model: \"model\"\n",
            "_________________________________________________________________\n",
            "Layer (type)                 Output Shape              Param #   \n",
            "=================================================================\n",
            "input_ (InputLayer)          [(None, 64)]              0         \n",
            "_________________________________________________________________\n",
            "encoding_layer_0 (Dense)     (None, 128)               8320      \n",
            "_________________________________________________________________\n",
            "encoding_layer_1 (Dense)     (None, 64)                8256      \n",
            "_________________________________________________________________\n",
            "encoding_layer_2 (Dense)     (None, 64)                4160      \n",
            "_________________________________________________________________\n",
            "encoding_layer_3 (Dense)     (None, 32)                2080      \n",
            "_________________________________________________________________\n",
            "encoder_output (Dense)       (None, 32)                1056      \n",
            "_________________________________________________________________\n",
            "cluster_layer (ClusteringLay (None, 10)                320       \n",
            "=================================================================\n",
            "Total params: 24,192\n",
            "Trainable params: 24,192\n",
            "Non-trainable params: 0\n",
            "_________________________________________________________________\n",
            "Loss : 0.03682\n",
            "saving model to: /content/iris_DEC/DEC_model.h5\n"
          ],
          "name": "stdout"
        }
      ]
    },
    {
      "cell_type": "code",
      "metadata": {
        "id": "gzPm_CNXw1j_"
      },
      "source": [
        "y_pred = dec.predict(fea)"
      ],
      "execution_count": 11,
      "outputs": []
    },
    {
      "cell_type": "code",
      "metadata": {
        "colab": {
          "base_uri": "https://localhost:8080/"
        },
        "id": "2L-f5e5Lw3wy",
        "outputId": "2908f5c4-47f4-47a8-b865-6603b8fe68d2"
      },
      "source": [
        "y_pred"
      ],
      "execution_count": 13,
      "outputs": [
        {
          "output_type": "execute_result",
          "data": {
            "text/plain": [
              "array([7, 8, 5, ..., 8, 6, 6])"
            ]
          },
          "metadata": {
            "tags": []
          },
          "execution_count": 13
        }
      ]
    },
    {
      "cell_type": "code",
      "metadata": {
        "colab": {
          "base_uri": "https://localhost:8080/"
        },
        "id": "nEgO-WGxYcMK",
        "outputId": "1f6a1e49-20f2-447a-b965-89a3352b40f8"
      },
      "source": [
        "cm = metrics.cluster.contingency_matrix(tar,y_pred)\n",
        "cm"
      ],
      "execution_count": 14,
      "outputs": [
        {
          "output_type": "execute_result",
          "data": {
            "text/plain": [
              "array([[  2,   0,   0,   0,   0,   0,   0, 176,   0,   0],\n",
              "       [  0,  56,   0,   0,   0,  27,   1,   0,  98,   0],\n",
              "       [  0,   1,   0,   0,   0, 174,   1,   0,   1,   0],\n",
              "       [  0,   0, 160,   0,   4,   1,   6,   0,   9,   3],\n",
              "       [175,   0,   0,   0,   0,   0,   0,   0,   0,   6],\n",
              "       [  1,   0,   4,   1, 176,   0,   0,   0,   0,   0],\n",
              "       [  0,   0,   0, 179,   0,   0,   0,   1,   1,   0],\n",
              "       [  0,   0,   0,   0,   0,   0,   0,   0,   2, 177],\n",
              "       [  0,   2,   0,   0,   2,   0,  92,   0,  78,   0],\n",
              "       [  0,  21, 137,   0,   2,   0,   8,   0,   3,   9]])"
            ]
          },
          "metadata": {
            "tags": []
          },
          "execution_count": 14
        }
      ]
    },
    {
      "cell_type": "code",
      "metadata": {
        "id": "lelDEVsya6FW"
      },
      "source": [
        "def acc_clustering(cm,y):\n",
        "  df = pd.DataFrame(cm)\n",
        "  true = 0\n",
        "  max_val = []\n",
        "  for col in df:\n",
        "    sorted = df[col].sort_values(ascending = False)\n",
        "    i = 0\n",
        "    while sorted.index[i] in max_val:\n",
        "      i += 1\n",
        "    true += sorted.values[i]\n",
        "    max_val.append(sorted.index[i])\n",
        "\n",
        "  return (true/len(y))*100\n"
      ],
      "execution_count": 15,
      "outputs": []
    },
    {
      "cell_type": "code",
      "metadata": {
        "colab": {
          "base_uri": "https://localhost:8080/"
        },
        "id": "ZOPfRKe-by8M",
        "outputId": "7e0f3f80-e455-4499-e680-b1a2ed131b7c"
      },
      "source": [
        "acc_clustering(cm,tar)"
      ],
      "execution_count": 16,
      "outputs": [
        {
          "output_type": "execute_result",
          "data": {
            "text/plain": [
              "76.12687813021702"
            ]
          },
          "metadata": {
            "tags": []
          },
          "execution_count": 16
        }
      ]
    },
    {
      "cell_type": "code",
      "metadata": {
        "id": "YVcdRk7wgfgL",
        "colab": {
          "base_uri": "https://localhost:8080/"
        },
        "outputId": "1b058313-188d-42c7-d521-4e83a655eb5e"
      },
      "source": [
        "y_pred"
      ],
      "execution_count": 17,
      "outputs": [
        {
          "output_type": "execute_result",
          "data": {
            "text/plain": [
              "array([7, 8, 5, ..., 8, 6, 6])"
            ]
          },
          "metadata": {
            "tags": []
          },
          "execution_count": 17
        }
      ]
    },
    {
      "cell_type": "code",
      "metadata": {
        "colab": {
          "base_uri": "https://localhost:8080/"
        },
        "id": "D3Zi8ZgaM2sP",
        "outputId": "66c05bdf-6ad0-4d45-c464-3a76eabd84e2"
      },
      "source": [
        "tar"
      ],
      "execution_count": 18,
      "outputs": [
        {
          "output_type": "execute_result",
          "data": {
            "text/plain": [
              "array([0, 1, 2, ..., 8, 9, 8])"
            ]
          },
          "metadata": {
            "tags": []
          },
          "execution_count": 18
        }
      ]
    },
    {
      "cell_type": "code",
      "metadata": {
        "id": "VEyL1f2rSOR1"
      },
      "source": [
        ""
      ],
      "execution_count": null,
      "outputs": []
    },
    {
      "cell_type": "code",
      "metadata": {
        "id": "f9GrIqzvw5X5"
      },
      "source": [
        ""
      ],
      "execution_count": null,
      "outputs": []
    }
  ]
}