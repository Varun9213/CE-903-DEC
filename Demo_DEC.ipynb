{
  "nbformat": 4,
  "nbformat_minor": 0,
  "metadata": {
    "colab": {
      "name": "Demo_DEC.ipynb",
      "provenance": [],
      "authorship_tag": "ABX9TyNys72bl6i/xbcSxOIIB/II",
      "include_colab_link": true
    },
    "kernelspec": {
      "name": "python3",
      "display_name": "Python 3"
    },
    "language_info": {
      "name": "python"
    }
  },
  "cells": [
    {
      "cell_type": "markdown",
      "metadata": {
        "id": "view-in-github",
        "colab_type": "text"
      },
      "source": [
        "<a href=\"https://colab.research.google.com/github/Varun9213/CE-903-DEC/blob/main/Demo_DEC.ipynb\" target=\"_parent\"><img src=\"https://colab.research.google.com/assets/colab-badge.svg\" alt=\"Open In Colab\"/></a>"
      ]
    },
    {
      "cell_type": "code",
      "metadata": {
        "id": "RH4jZUfX5QMd"
      },
      "source": [
        "pip install -i https://test.pypi.org/simple/ --extra-index-url https://pypi.org/simple Clustering==0.0.13 >> /dev/null"
      ],
      "execution_count": 3,
      "outputs": []
    },
    {
      "cell_type": "code",
      "metadata": {
        "id": "OvYdhfbEh3_Q"
      },
      "source": [
        "from Clustering.Clustering import DEC"
      ],
      "execution_count": 4,
      "outputs": []
    },
    {
      "cell_type": "code",
      "metadata": {
        "id": "N_NMYnVtqtMe"
      },
      "source": [
        "# import numpy as np\n",
        "# import pandas as pd\n",
        "\n",
        "# import tensorflow as tf\n",
        "# import tensorflow.keras.backend as K\n",
        "# import tensorflow.keras.layers as L\n",
        "from tensorflow.keras.optimizers import SGD, Adam\n",
        "# from tensorflow.keras.models import Model\n",
        "\n",
        "\n",
        "from sklearn.datasets import load_iris, load_digits\n",
        "from sklearn.cluster import KMeans\n",
        "from sklearn import metrics\n",
        "import numpy as np\n",
        "import pandas as pd"
      ],
      "execution_count": 5,
      "outputs": []
    },
    {
      "cell_type": "code",
      "metadata": {
        "id": "AeSge5_5q0md"
      },
      "source": [
        "fea, tar = load_digits(return_X_y=True)\n",
        "fea = np.array(fea)\n",
        "tar = np.array(tar)"
      ],
      "execution_count": 6,
      "outputs": []
    },
    {
      "cell_type": "code",
      "metadata": {
        "id": "oSrFR3s8wmLC"
      },
      "source": [
        "%mkdir iris_DEC"
      ],
      "execution_count": 7,
      "outputs": []
    },
    {
      "cell_type": "code",
      "metadata": {
        "colab": {
          "base_uri": "https://localhost:8080/"
        },
        "id": "dZmnKBn2iO_F",
        "outputId": "65ee671e-639d-4b99-ff1c-a2d168bcea26"
      },
      "source": [
        "dec = DEC([fea.shape[1],128,64,64,32,32],nclusters=10)\n",
        "dec.autoencoder.summary()"
      ],
      "execution_count": 8,
      "outputs": [
        {
          "output_type": "stream",
          "text": [
            "Model: \"Autoencoder\"\n",
            "_________________________________________________________________\n",
            "Layer (type)                 Output Shape              Param #   \n",
            "=================================================================\n",
            "input_ (InputLayer)          [(None, 64)]              0         \n",
            "_________________________________________________________________\n",
            "encoding_layer_0 (Dense)     (None, 128)               8320      \n",
            "_________________________________________________________________\n",
            "encoding_layer_1 (Dense)     (None, 64)                8256      \n",
            "_________________________________________________________________\n",
            "encoding_layer_2 (Dense)     (None, 64)                4160      \n",
            "_________________________________________________________________\n",
            "encoding_layer_3 (Dense)     (None, 32)                2080      \n",
            "_________________________________________________________________\n",
            "encoder_output (Dense)       (None, 32)                1056      \n",
            "_________________________________________________________________\n",
            "decoding_layer_4 (Dense)     (None, 32)                1056      \n",
            "_________________________________________________________________\n",
            "decoding_layer_3 (Dense)     (None, 64)                2112      \n",
            "_________________________________________________________________\n",
            "decoding_layer_2 (Dense)     (None, 64)                4160      \n",
            "_________________________________________________________________\n",
            "decoding_layer_1 (Dense)     (None, 128)               8320      \n",
            "_________________________________________________________________\n",
            "decoder_ouput (Dense)        (None, 64)                8256      \n",
            "=================================================================\n",
            "Total params: 47,776\n",
            "Trainable params: 47,776\n",
            "Non-trainable params: 0\n",
            "_________________________________________________________________\n"
          ],
          "name": "stdout"
        }
      ]
    },
    {
      "cell_type": "code",
      "metadata": {
        "colab": {
          "base_uri": "https://localhost:8080/"
        },
        "id": "tFH0udaGwqD1",
        "outputId": "2a6e6df1-a32a-44fa-90ec-22e13cec78a6"
      },
      "source": [
        "dec.train_autoencoder(fea,epochs=5000,dir=\"/content/iris_DEC\",optimizer=Adam(learning_rate=0.001))"
      ],
      "execution_count": 9,
      "outputs": [
        {
          "output_type": "stream",
          "text": [
            "loss : 0.78802\n",
            "Weights saved to /content/iris_DEC/autoencoder_weights.h5\n"
          ],
          "name": "stdout"
        }
      ]
    },
    {
      "cell_type": "code",
      "metadata": {
        "colab": {
          "base_uri": "https://localhost:8080/"
        },
        "id": "LqwewT_NwxYm",
        "outputId": "aca29c15-aa2c-4de3-8cd4-92f67ec6cc71"
      },
      "source": [
        "dec.compile(optimizer=Adam(learning_rate=0.001), loss='kld')\n",
        "dec.fit(fea, tar, epochs=1000, dir=\"/content/iris_DEC\")"
      ],
      "execution_count": 10,
      "outputs": [
        {
          "output_type": "stream",
          "text": [
            "Initializing cluster centers with k-means.........\n",
            "Model: \"model\"\n",
            "_________________________________________________________________\n",
            "Layer (type)                 Output Shape              Param #   \n",
            "=================================================================\n",
            "input_ (InputLayer)          [(None, 64)]              0         \n",
            "_________________________________________________________________\n",
            "encoding_layer_0 (Dense)     (None, 128)               8320      \n",
            "_________________________________________________________________\n",
            "encoding_layer_1 (Dense)     (None, 64)                8256      \n",
            "_________________________________________________________________\n",
            "encoding_layer_2 (Dense)     (None, 64)                4160      \n",
            "_________________________________________________________________\n",
            "encoding_layer_3 (Dense)     (None, 32)                2080      \n",
            "_________________________________________________________________\n",
            "encoder_output (Dense)       (None, 32)                1056      \n",
            "_________________________________________________________________\n",
            "cluster_layer (ClusteringLay (None, 10)                320       \n",
            "=================================================================\n",
            "Total params: 24,192\n",
            "Trainable params: 24,192\n",
            "Non-trainable params: 0\n",
            "_________________________________________________________________\n",
            "Loss : 0.03012\n",
            "saving model to: /content/iris_DEC/DEC_model.h5\n"
          ],
          "name": "stdout"
        }
      ]
    },
    {
      "cell_type": "code",
      "metadata": {
        "id": "gzPm_CNXw1j_"
      },
      "source": [
        "y_pred = dec.predict(fea)"
      ],
      "execution_count": 11,
      "outputs": []
    },
    {
      "cell_type": "code",
      "metadata": {
        "colab": {
          "base_uri": "https://localhost:8080/"
        },
        "id": "2L-f5e5Lw3wy",
        "outputId": "cee59675-f8df-4e17-e383-a45f99446a10"
      },
      "source": [
        "y_pred"
      ],
      "execution_count": 12,
      "outputs": [
        {
          "output_type": "execute_result",
          "data": {
            "text/plain": [
              "array([4, 3, 3, ..., 3, 5, 5])"
            ]
          },
          "metadata": {
            "tags": []
          },
          "execution_count": 12
        }
      ]
    },
    {
      "cell_type": "code",
      "metadata": {
        "colab": {
          "base_uri": "https://localhost:8080/"
        },
        "id": "nEgO-WGxYcMK",
        "outputId": "0c7b71a6-6b4e-441c-f875-a8c0a35d6c63"
      },
      "source": [
        "cm = metrics.cluster.contingency_matrix(tar,y_pred)\n",
        "cm"
      ],
      "execution_count": 13,
      "outputs": [
        {
          "output_type": "execute_result",
          "data": {
            "text/plain": [
              "array([[  0,   0,   0,   0, 177,   0,   0,   0,   0,   1],\n",
              "       [  0,  55,   0,  99,   0,   0,  27,   1,   0,   0],\n",
              "       [  0,   0,   1,   9,   0,   0, 167,   0,   0,   0],\n",
              "       [  0,   0,   1,  10,   0,  13,   2,   1, 156,   0],\n",
              "       [  0,   0,   4,   3,   0,   0,   0,   0,   0, 174],\n",
              "       [  0,   0,   0,   0,   0,  52,   0, 130,   0,   0],\n",
              "       [179,   0,   0,   2,   0,   0,   0,   0,   0,   0],\n",
              "       [  0,   0, 178,   1,   0,   0,   0,   0,   0,   0],\n",
              "       [  0,   3,   0,  91,   0,  79,   1,   0,   0,   0],\n",
              "       [  0,  21,   9,   2,   1, 145,   0,   2,   0,   0]])"
            ]
          },
          "metadata": {
            "tags": []
          },
          "execution_count": 13
        }
      ]
    },
    {
      "cell_type": "code",
      "metadata": {
        "id": "lelDEVsya6FW"
      },
      "source": [
        "def acc_clustering(cm,y):\n",
        "  df = pd.DataFrame(cm)\n",
        "  true = 0\n",
        "  max_val = []\n",
        "  for col in df:\n",
        "    sorted = df[col].sort_values(ascending = False)\n",
        "    i = 0\n",
        "    while sorted.index[i] in max_val:\n",
        "      i += 1\n",
        "    true += sorted.values[i]\n",
        "    max_val.append(sorted.index[i])\n",
        "\n",
        "  return (true/len(y))*100\n"
      ],
      "execution_count": 14,
      "outputs": []
    },
    {
      "cell_type": "code",
      "metadata": {
        "colab": {
          "base_uri": "https://localhost:8080/"
        },
        "id": "ZOPfRKe-by8M",
        "outputId": "4b3ef0dc-55c5-4db2-ee62-97bddf6e74e0"
      },
      "source": [
        "acc_clustering(cm,tar)"
      ],
      "execution_count": 15,
      "outputs": [
        {
          "output_type": "execute_result",
          "data": {
            "text/plain": [
              "80.80133555926544"
            ]
          },
          "metadata": {
            "tags": []
          },
          "execution_count": 15
        }
      ]
    },
    {
      "cell_type": "code",
      "metadata": {
        "id": "YVcdRk7wgfgL",
        "colab": {
          "base_uri": "https://localhost:8080/"
        },
        "outputId": "08c7cf29-d3c2-45ba-d231-e48858b77657"
      },
      "source": [
        "y_pred"
      ],
      "execution_count": 16,
      "outputs": [
        {
          "output_type": "execute_result",
          "data": {
            "text/plain": [
              "array([4, 3, 3, ..., 3, 5, 5])"
            ]
          },
          "metadata": {
            "tags": []
          },
          "execution_count": 16
        }
      ]
    },
    {
      "cell_type": "code",
      "metadata": {
        "colab": {
          "base_uri": "https://localhost:8080/"
        },
        "id": "D3Zi8ZgaM2sP",
        "outputId": "e350367f-5f51-4596-b7b6-4ab489af98e2"
      },
      "source": [
        "tar"
      ],
      "execution_count": 17,
      "outputs": [
        {
          "output_type": "execute_result",
          "data": {
            "text/plain": [
              "array([0, 1, 2, ..., 8, 9, 8])"
            ]
          },
          "metadata": {
            "tags": []
          },
          "execution_count": 17
        }
      ]
    },
    {
      "cell_type": "code",
      "metadata": {
        "id": "VEyL1f2rSOR1"
      },
      "source": [
        ""
      ],
      "execution_count": null,
      "outputs": []
    },
    {
      "cell_type": "code",
      "metadata": {
        "id": "f9GrIqzvw5X5"
      },
      "source": [
        ""
      ],
      "execution_count": null,
      "outputs": []
    }
  ]
}