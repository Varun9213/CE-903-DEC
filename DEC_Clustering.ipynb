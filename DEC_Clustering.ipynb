{
  "nbformat": 4,
  "nbformat_minor": 0,
  "metadata": {
    "colab": {
      "name": "DEC_Clustering.ipynb",
      "provenance": [],
      "authorship_tag": "ABX9TyNTNu7zp/SRlzsacTsxWv5f",
      "include_colab_link": true
    },
    "kernelspec": {
      "name": "python3",
      "display_name": "Python 3"
    }
  },
  "cells": [
    {
      "cell_type": "markdown",
      "metadata": {
        "id": "view-in-github",
        "colab_type": "text"
      },
      "source": [
        "<a href=\"https://colab.research.google.com/github/Varun9213/CE-903-DEC/blob/main/DEC_Clustering.ipynb\" target=\"_parent\"><img src=\"https://colab.research.google.com/assets/colab-badge.svg\" alt=\"Open In Colab\"/></a>"
      ]
    },
    {
      "cell_type": "code",
      "metadata": {
        "id": "XPnwCLbMECIz"
      },
      "source": [
        "import numpy as np\r\n",
        "import pandas as pd\r\n",
        "\r\n",
        "import tensorflow as tf\r\n",
        "import tensorflow.keras.backend as K\r\n",
        "import tensorflow.keras.layers as L\r\n",
        "from tensorflow.keras.optimizers import SGD, Adam\r\n",
        "from tensorflow.keras.models import Model\r\n",
        "\r\n",
        "\r\n",
        "from sklearn.datasets import load_iris, load_digits\r\n",
        "from sklearn.cluster import KMeans\r\n",
        "from sklearn import metrics"
      ],
      "execution_count": null,
      "outputs": []
    },
    {
      "cell_type": "code",
      "metadata": {
        "id": "8GovpzZ3FDsr"
      },
      "source": [
        "def autoencoder(DIM, act='relu', initializer='glorot_uniform'):\r\n",
        "\r\n",
        "  \"\"\"\r\n",
        "  DIM : Number of units in each layer where DIM[0] corresponds to input layer and DIM[-1] corresponds to encoder output and decoder input\r\n",
        "  act : Activation Function\r\n",
        "\r\n",
        "  \"\"\"\r\n",
        "  inp = L.Input(shape=(DIM[0],), name='input_')\r\n",
        "  e = inp\r\n",
        "\r\n",
        "  #Encoding Layers\r\n",
        "  for i in range(len(DIM)-2):\r\n",
        "    e = L.Dense(DIM[i+1], act, kernel_initializer=initializer, name=\"encoding_layer_%i\"%(i))(e)\r\n",
        "\r\n",
        "  e = L.Dense(DIM[-1], kernel_initializer=initializer, name='encoder_output')(e)\r\n",
        "  encoder_out = e \r\n",
        "\r\n",
        "  d = e\r\n",
        "  #Decoding Layers \r\n",
        "  for i in range(len(DIM)-2, 0, -1):\r\n",
        "    d = L.Dense(DIM[i], act, kernel_initializer=initializer, name=\"decoding_layer_%i\"%(i))(d)\r\n",
        "\r\n",
        "  decoder_out = L.Dense(DIM[0], kernel_initializer=initializer, name='decoder_ouput')(d)\r\n",
        "\r\n",
        "  encoder = Model(inp,encoder_out,name=\"Encoder\")\r\n",
        "  autoencoder = Model(inp,decoder_out,name=\"Autoencoder\")\r\n",
        "\r\n",
        "  return autoencoder, encoder"
      ],
      "execution_count": null,
      "outputs": []
    },
    {
      "cell_type": "code",
      "metadata": {
        "id": "qxjazBIRMUKu"
      },
      "source": [
        "class ClusteringLayer(tf.keras.layers.Layer):\r\n",
        "\r\n",
        "  def __init__(self,nclusters,weights=None,alpha=1.0,**kwargs):\r\n",
        "    if 'input_shape' not in kwargs and 'input_dim' in kwargs:\r\n",
        "      kwargs['input_shape'] = (kwargs.pop('input_dim'),)\r\n",
        "    super().__init__(**kwargs)\r\n",
        "    self.nclusters = nclusters\r\n",
        "    self.init_weights = weights\r\n",
        "    self.alpha = alpha\r\n",
        "\r\n",
        "  def build(self, input_shape):\r\n",
        "    self.inp_dim = input_shape[1]\r\n",
        "    self.clusters = self.add_weight(shape=(self.nclusters,self.inp_dim),initializer='glorot_uniform', name='clusters')\r\n",
        "    if self.init_weights is not None:\r\n",
        "      self.set_weights(self.init_weights)\r\n",
        "      self.built = True\r\n",
        "\r\n",
        "  def call(self, inputs, **kwargs):\r\n",
        "    q = 1.0 / (1.0 + (K.sum(K.square(K.expand_dims(inputs, axis=1) - self.clusters), axis=2) / self.alpha))\r\n",
        "    q = K.pow(q,(self.alpha + 1.0) / 2.0)\r\n",
        "    q = K.transpose(K.transpose(q) / K.sum(q, axis=1))\r\n",
        "    return q\r\n"
      ],
      "execution_count": null,
      "outputs": []
    },
    {
      "cell_type": "code",
      "metadata": {
        "id": "u6x0RuWjhvpm"
      },
      "source": [
        "class DEC(object):\r\n",
        "\r\n",
        "  def __init__(self,DIM,nclusters=10,alpha=1.0,initializer='glorot_uniform'):\r\n",
        "    self.DIM = DIM\r\n",
        "    self.input_dim = DIM[0]\r\n",
        "    self.nclusters = nclusters\r\n",
        "    self.alpha = alpha\r\n",
        "    self.autoencoder, self.encoder = autoencoder(DIM, initializer=initializer)\r\n",
        "\r\n",
        "    clustering_layer = ClusteringLayer(self.nclusters, name='cluster_layer')(self.encoder.output)\r\n",
        "    self.model = Model(inputs=self.encoder.input, outputs=clustering_layer)\r\n",
        "\r\n",
        "  def train_autoencoder(self, x, optimizer='adam', epochs=100, batch_size=256, dir = None):\r\n",
        "\r\n",
        "    self.autoencoder.compile(optimizer=optimizer, loss='mse')\r\n",
        "    hist = self.autoencoder.fit(x,x,epochs=epochs,batch_size=batch_size,verbose=0)\r\n",
        "    print(\"loss : %.5f\"%hist.history[\"loss\"][-1])\r\n",
        "    self.autoencoder.save_weights(dir + \"/autoencoder_weights.h5\")\r\n",
        "    print(\"Weights saved to %s/autoencoder_weights.h5\" %(dir))\r\n",
        "\r\n",
        "\r\n",
        "  def target_distribution(self,q):\r\n",
        "    weight = q ** 2 / q.sum(0)\r\n",
        "    return (weight.T / weight.sum(1)).T\r\n",
        "\r\n",
        "  def compile(self, optimizer='sgd', loss='kld'):\r\n",
        "    self.model.compile(optimizer=optimizer, loss=loss)\r\n",
        "\r\n",
        "  def predict(self, x):\r\n",
        "    q = self.model.predict(x)\r\n",
        "    return np.argmax(q,axis=1)\r\n",
        "\r\n",
        "  def fit(self, x, y=None, epochs=200, batch_size=256, dir = None):\r\n",
        "\r\n",
        "    print('Initializing cluster centers with k-means.........')\r\n",
        "    km = KMeans(n_clusters=self.nclusters, n_init=5)\r\n",
        "    y_pred = km.fit_predict(self.encoder.predict(x))\r\n",
        "    self.model.summary()\r\n",
        "    self.model.get_layer('cluster_layer').set_weights([km.cluster_centers_])\r\n",
        "    loss = 0\r\n",
        "    indx = 0\r\n",
        "    idx_arr = np.arange(x.shape[0])\r\n",
        "\r\n",
        "    for i in range(epochs):\r\n",
        "\r\n",
        "      q = self.model.predict(x)\r\n",
        "      p = self.target_distribution(q)\r\n",
        "      idx = idx_arr[indx*batch_size:min((indx+1) * batch_size, x.shape[0])]\r\n",
        "      loss = self.model.train_on_batch(x[idx],p[idx])\r\n",
        "      indx = indx + 1 if (indx + 1) * batch_size <= x.shape[0] else 0\r\n",
        "    print('Loss : %.5f'%loss)\r\n",
        "    print('saving model to:', dir + \"/DEC_model.h5\")\r\n",
        "    self.model.save_weights(dir + \"/DEC_model.h5\")\r\n"
      ],
      "execution_count": null,
      "outputs": []
    },
    {
      "cell_type": "code",
      "metadata": {
        "id": "_4Cu7UOrOn2D",
        "colab": {
          "base_uri": "https://localhost:8080/"
        },
        "outputId": "198722f2-3298-407d-e946-2fa2d1c79a3f"
      },
      "source": [
        "fea, tar = load_digits(return_X_y=True)\r\n",
        "tar"
      ],
      "execution_count": null,
      "outputs": [
        {
          "output_type": "execute_result",
          "data": {
            "text/plain": [
              "array([0, 1, 2, ..., 8, 9, 8])"
            ]
          },
          "metadata": {
            "tags": []
          },
          "execution_count": 9
        }
      ]
    },
    {
      "cell_type": "code",
      "metadata": {
        "colab": {
          "base_uri": "https://localhost:8080/"
        },
        "id": "1wH5oIW3efLV",
        "outputId": "fe3ea48f-af22-480e-ad65-102961cf2fcf"
      },
      "source": [
        "fea"
      ],
      "execution_count": null,
      "outputs": [
        {
          "output_type": "execute_result",
          "data": {
            "text/plain": [
              "array([[ 0.,  0.,  5., ...,  0.,  0.,  0.],\n",
              "       [ 0.,  0.,  0., ..., 10.,  0.,  0.],\n",
              "       [ 0.,  0.,  0., ..., 16.,  9.,  0.],\n",
              "       ...,\n",
              "       [ 0.,  0.,  1., ...,  6.,  0.,  0.],\n",
              "       [ 0.,  0.,  2., ..., 12.,  0.,  0.],\n",
              "       [ 0.,  0., 10., ..., 12.,  1.,  0.]])"
            ]
          },
          "metadata": {
            "tags": []
          },
          "execution_count": 46
        }
      ]
    },
    {
      "cell_type": "code",
      "metadata": {
        "id": "EgPnbBykPSDB"
      },
      "source": [
        "fea = np.array(fea)\r\n",
        "tar = np.array(tar)"
      ],
      "execution_count": null,
      "outputs": []
    },
    {
      "cell_type": "code",
      "metadata": {
        "id": "Y1l3x9AOQRGD"
      },
      "source": [
        "%mkdir iris_DEC"
      ],
      "execution_count": null,
      "outputs": []
    },
    {
      "cell_type": "code",
      "metadata": {
        "id": "i-4fNMvKPTAq",
        "colab": {
          "base_uri": "https://localhost:8080/"
        },
        "outputId": "55dd2e7f-4716-4777-ed56-b9e521100677"
      },
      "source": [
        "dec = DEC([fea.shape[1],128,64,64,32,32],nclusters=10)\r\n",
        "dec.autoencoder.summary()"
      ],
      "execution_count": null,
      "outputs": [
        {
          "output_type": "stream",
          "text": [
            "Model: \"Autoencoder\"\n",
            "_________________________________________________________________\n",
            "Layer (type)                 Output Shape              Param #   \n",
            "=================================================================\n",
            "input_ (InputLayer)          [(None, 64)]              0         \n",
            "_________________________________________________________________\n",
            "encoding_layer_0 (Dense)     (None, 128)               8320      \n",
            "_________________________________________________________________\n",
            "encoding_layer_1 (Dense)     (None, 64)                8256      \n",
            "_________________________________________________________________\n",
            "encoding_layer_2 (Dense)     (None, 64)                4160      \n",
            "_________________________________________________________________\n",
            "encoding_layer_3 (Dense)     (None, 32)                2080      \n",
            "_________________________________________________________________\n",
            "encoder_output (Dense)       (None, 32)                1056      \n",
            "_________________________________________________________________\n",
            "decoding_layer_4 (Dense)     (None, 32)                1056      \n",
            "_________________________________________________________________\n",
            "decoding_layer_3 (Dense)     (None, 64)                2112      \n",
            "_________________________________________________________________\n",
            "decoding_layer_2 (Dense)     (None, 64)                4160      \n",
            "_________________________________________________________________\n",
            "decoding_layer_1 (Dense)     (None, 128)               8320      \n",
            "_________________________________________________________________\n",
            "decoder_ouput (Dense)        (None, 64)                8256      \n",
            "=================================================================\n",
            "Total params: 47,776\n",
            "Trainable params: 47,776\n",
            "Non-trainable params: 0\n",
            "_________________________________________________________________\n"
          ],
          "name": "stdout"
        }
      ]
    },
    {
      "cell_type": "code",
      "metadata": {
        "colab": {
          "base_uri": "https://localhost:8080/"
        },
        "id": "nZKS45GjQ2Ej",
        "outputId": "c5c8334e-70ab-4df9-b869-a1de430fb17e"
      },
      "source": [
        "dec.train_autoencoder(fea,epochs=5000,dir=\"/content/iris_DEC\",optimizer=Adam(learning_rate=0.001))"
      ],
      "execution_count": null,
      "outputs": [
        {
          "output_type": "stream",
          "text": [
            "loss : 0.64358\n",
            "Weights saved to /content/iris_DEC/autoencoder_weights.h5\n"
          ],
          "name": "stdout"
        }
      ]
    },
    {
      "cell_type": "code",
      "metadata": {
        "colab": {
          "base_uri": "https://localhost:8080/"
        },
        "id": "gFhZI7JeUs_j",
        "outputId": "2f8906f6-e028-41f9-fc42-910bc9499ba5"
      },
      "source": [
        "dec.compile(optimizer=Adam(learning_rate=0.001), loss='kld')\r\n",
        "dec.fit(fea, tar, epochs=1000, dir=\"/content/iris_DEC\")"
      ],
      "execution_count": null,
      "outputs": [
        {
          "output_type": "stream",
          "text": [
            "Initializing cluster centers with k-means.........\n",
            "Model: \"model_4\"\n",
            "_________________________________________________________________\n",
            "Layer (type)                 Output Shape              Param #   \n",
            "=================================================================\n",
            "input_ (InputLayer)          [(None, 64)]              0         \n",
            "_________________________________________________________________\n",
            "encoding_layer_0 (Dense)     (None, 128)               8320      \n",
            "_________________________________________________________________\n",
            "encoding_layer_1 (Dense)     (None, 64)                8256      \n",
            "_________________________________________________________________\n",
            "encoding_layer_2 (Dense)     (None, 64)                4160      \n",
            "_________________________________________________________________\n",
            "encoding_layer_3 (Dense)     (None, 32)                2080      \n",
            "_________________________________________________________________\n",
            "encoder_output (Dense)       (None, 32)                1056      \n",
            "_________________________________________________________________\n",
            "cluster_layer (ClusteringLay (None, 10)                320       \n",
            "=================================================================\n",
            "Total params: 24,192\n",
            "Trainable params: 24,192\n",
            "Non-trainable params: 0\n",
            "_________________________________________________________________\n",
            "Loss : 0.03058\n",
            "saving model to: /content/iris_DEC/DEC_model.h5\n"
          ],
          "name": "stdout"
        }
      ]
    },
    {
      "cell_type": "code",
      "metadata": {
        "id": "_-joof6dVJ8j"
      },
      "source": [
        "y_pred = dec.predict(fea)"
      ],
      "execution_count": null,
      "outputs": []
    },
    {
      "cell_type": "code",
      "metadata": {
        "colab": {
          "base_uri": "https://localhost:8080/"
        },
        "id": "nEgO-WGxYcMK",
        "outputId": "976ffce6-95d4-4e00-89ce-9cea4a302f72"
      },
      "source": [
        "cm = metrics.cluster.contingency_matrix(tar,y_pred)\r\n",
        "cm"
      ],
      "execution_count": null,
      "outputs": [
        {
          "output_type": "execute_result",
          "data": {
            "text/plain": [
              "array([[  0,   0,   0,   1,   0,   0,   0, 177,   0,   0],\n",
              "       [  0,   0,   0,   0,   0,  98,  27,   0,  57,   0],\n",
              "       [  0,   0,   0,   0,   0,   9, 168,   0,   0,   0],\n",
              "       [  1, 168,  11,   0,   3,   0,   0,   0,   0,   0],\n",
              "       [  0,   0,   0, 175,   3,   3,   0,   0,   0,   0],\n",
              "       [176,   3,   1,   0,   1,   0,   0,   0,   0,   1],\n",
              "       [  0,   0,   2,   0,   0,   0,   0,   2,   0, 177],\n",
              "       [  0,   0,   1,   0, 178,   0,   0,   0,   0,   0],\n",
              "       [  0,   1, 156,   0,   1,  12,   2,   0,   2,   0],\n",
              "       [  0, 145,   3,   0,  11,   0,   0,   0,  21,   0]])"
            ]
          },
          "metadata": {
            "tags": []
          },
          "execution_count": 41
        }
      ]
    },
    {
      "cell_type": "code",
      "metadata": {
        "id": "lelDEVsya6FW"
      },
      "source": [
        "def acc_clustering(cm,y):\r\n",
        "  df = pd.DataFrame(cm)\r\n",
        "  true = 0\r\n",
        "  max_val = []\r\n",
        "  for col in df:\r\n",
        "    sorted = df[col].sort_values(ascending = False)\r\n",
        "    i = 0\r\n",
        "    while sorted.index[i] in max_val:\r\n",
        "      i += 1\r\n",
        "    true += sorted.values[i]\r\n",
        "    max_val.append(sorted.index[i])\r\n",
        "\r\n",
        "  return (true/len(y))*100\r\n"
      ],
      "execution_count": null,
      "outputs": []
    },
    {
      "cell_type": "code",
      "metadata": {
        "colab": {
          "base_uri": "https://localhost:8080/"
        },
        "id": "ZOPfRKe-by8M",
        "outputId": "8baf0802-04cb-4f40-8b84-c4ef6409aa81"
      },
      "source": [
        "acc_clustering(cm,tar)"
      ],
      "execution_count": null,
      "outputs": [
        {
          "output_type": "execute_result",
          "data": {
            "text/plain": [
              "83.13856427378965"
            ]
          },
          "metadata": {
            "tags": []
          },
          "execution_count": 43
        }
      ]
    },
    {
      "cell_type": "code",
      "metadata": {
        "id": "YVcdRk7wgfgL",
        "colab": {
          "base_uri": "https://localhost:8080/"
        },
        "outputId": "482c3569-0f87-41bd-f23a-f8cd9bd61059"
      },
      "source": [
        "y_pred"
      ],
      "execution_count": null,
      "outputs": [
        {
          "output_type": "execute_result",
          "data": {
            "text/plain": [
              "array([7, 5, 5, ..., 2, 1, 2])"
            ]
          },
          "metadata": {
            "tags": []
          },
          "execution_count": 44
        }
      ]
    },
    {
      "cell_type": "code",
      "metadata": {
        "colab": {
          "base_uri": "https://localhost:8080/"
        },
        "id": "D3Zi8ZgaM2sP",
        "outputId": "5b9e956c-25e6-49d8-eb3c-9612af7d584f"
      },
      "source": [
        "tar"
      ],
      "execution_count": null,
      "outputs": [
        {
          "output_type": "execute_result",
          "data": {
            "text/plain": [
              "array([0, 1, 2, ..., 8, 9, 8])"
            ]
          },
          "metadata": {
            "tags": []
          },
          "execution_count": 45
        }
      ]
    },
    {
      "cell_type": "code",
      "metadata": {
        "id": "VEyL1f2rSOR1"
      },
      "source": [
        ""
      ],
      "execution_count": null,
      "outputs": []
    }
  ]
}